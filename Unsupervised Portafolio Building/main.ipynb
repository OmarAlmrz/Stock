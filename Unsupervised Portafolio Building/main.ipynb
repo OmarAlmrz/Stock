{
 "cells": [
  {
   "cell_type": "code",
   "execution_count": 583,
   "metadata": {},
   "outputs": [],
   "source": [
    "from statsmodels.regression.rolling import RollingOLS\n",
    "import pandas_datareader.data as web\n",
    "import matplotlib.pyplot as plt\n",
    "import statsmodels.api as sm\n",
    "import pandas as pd\n",
    "import numpy as np\n",
    "import datetime as dt\n",
    "import yfinance as yf\n",
    "import pandas_ta # for technical analysis\n",
    "from datetime import datetime, timedelta\n",
    "from sklearn.preprocessing import StandardScaler\n"
   ]
  },
  {
   "cell_type": "code",
   "execution_count": 584,
   "metadata": {},
   "outputs": [],
   "source": [
    "def get_index_components_from_html(link:str, start_date:str, end_date:str) -> pd.DataFrame:\n",
    "    \"\"\"Get all components of a market index\n",
    "\n",
    "    Args:\n",
    "        link (str): link that have all components of market index\n",
    "        start_date (str): Download start date string (YYYY-MM-DD)\n",
    "        end_date (str): Download end date string (YYYY-MM-DD)\n",
    "\n",
    "    Returns:\n",
    "        pd.DataFrame: dataframe with information of each component\n",
    "    \"\"\"\n",
    "    components = pd.read_html(link)[4]\n",
    "    tickers = components[\"Ticker\"].unique().tolist()\n",
    "    data = yf.download(tickers,start=start_date, end=end_date).stack()\n",
    "    data.index.names = [\"Date\", \"Ticker\"]\n",
    "    return data"
   ]
  },
  {
   "cell_type": "code",
   "execution_count": 585,
   "metadata": {},
   "outputs": [
    {
     "name": "stdout",
     "output_type": "stream",
     "text": [
      "[*********************100%%**********************]  101 of 101 completed\n"
     ]
    }
   ],
   "source": [
    "link = \"https://en.wikipedia.org/wiki/Nasdaq-100\"\n",
    "end_date = datetime.strptime('2023-12-31', \"%Y-%m-%d\")\n",
    "start_date = end_date - timedelta(days=365*5)\n",
    "data = get_index_components_from_html(link,start_date, end_date)"
   ]
  },
  {
   "cell_type": "code",
   "execution_count": 586,
   "metadata": {},
   "outputs": [],
   "source": [
    "original_colums = data.columns"
   ]
  },
  {
   "cell_type": "markdown",
   "metadata": {},
   "source": [
    "## Calculate technical indicators"
   ]
  },
  {
   "cell_type": "markdown",
   "metadata": {},
   "source": [
    "### 1. Garman-Klass Volatility\n",
    "medida utilizada para evaliar la volatividad de un activo financiero. Si el valor numérico de la volatilidad Garman-Klass es del 15%, significa que, en promedio, se espera que el precio del activo fluctúe en un rango del 15% en relación con su precio medio durante el período de tiempo analizado.\n"
   ]
  },
  {
   "cell_type": "code",
   "execution_count": 587,
   "metadata": {},
   "outputs": [],
   "source": [
    "data[\"Garman Klass\"] = ((np.log(data[\"High\"]) - np.log(data[\"Low\"]))**2)/2 - (2*np.log(2)-1)*((np.log(data['Close'])-np.log(data['Open']))**2)"
   ]
  },
  {
   "cell_type": "markdown",
   "metadata": {},
   "source": [
    "### 2. RSI - Relative Strength Index\n",
    "Indicador de momentum que mide la magnitud de los movimientos de precios para determinar las condiciones de sobrecompra o sobreventa de un activo [0, 100].\n",
    "Cuando el RSI está por encima de 70, se considera que el activo está sobrecomprado. Por otro lado, cuando el RSI está por debajo de 30, se considera que el activo está sobrevendido.\n",
    "\n"
   ]
  },
  {
   "cell_type": "code",
   "execution_count": 588,
   "metadata": {},
   "outputs": [],
   "source": [
    "data[\"RSI\"] = data.groupby(level=\"Ticker\")['Close'].transform(lambda x: pandas_ta.rsi(close=x,length=25))"
   ]
  },
  {
   "cell_type": "markdown",
   "metadata": {},
   "source": [
    "### 3. MACD - Moving Average Convergence Divergence\n",
    "Indicador para identificar cambios en la fuerza, dirección, impulso y duración de una tendencia en el precio de un activo. Este indicador se compone de dos líneas principales: la línea MACD y la línea de señal. \n",
    "La Línea MACD es la diferencia entre dos medias móviles exponenciales (EMAs): una de 12 días y otra de 26 días.\n",
    "La línea de señal es una EMA de 9 días de la línea MACD.\n",
    "\n",
    "Interpretación numérica:\n",
    "\n",
    "**Cruce de Líneas**: Los cruces entre la Línea MACD y la Línea de Señal pueden indicar posibles señales de compra o venta. Cuando la Línea MACD cruza por encima de la Línea de Señal, puede interpretarse como una señal alcista, mientras que un cruce por debajo puede interpretarse como una señal bajista.\n",
    "\n",
    "**Histograma**: Los valores del histograma MACD, ya sea por encima o por debajo de cero, indican la fuerza y ​​la dirección de la tendencia. Valores positivos sugieren una tendencia alcista, mientras que valores negativos sugieren una tendencia bajista.\n"
   ]
  },
  {
   "cell_type": "code",
   "execution_count": 589,
   "metadata": {},
   "outputs": [],
   "source": [
    "def compute_macd(close):\n",
    "    macd = pandas_ta.macd(close=close, length=20).iloc[:,0]\n",
    "    return macd.sub(macd.mean()).div(macd.std())\n"
   ]
  },
  {
   "cell_type": "code",
   "execution_count": 590,
   "metadata": {},
   "outputs": [],
   "source": [
    "data['MACD'] = data.groupby(level=\"Ticker\", group_keys=False)['Close'].apply(compute_macd)"
   ]
  },
  {
   "cell_type": "markdown",
   "metadata": {},
   "source": [
    "### 4. Bollinger Bands\n",
    "Estas bandas son un tipo de envelope que se colocan alrededor del precio de un activo y están formadas por tres líneas:\n",
    "\n",
    "**Línea Central (Media Móvil Simple)**: La línea central es una media móvil simple (SMA) que generalmente se calcula utilizando el precio de cierre durante un período específico. El valor predeterminado suele ser una SMA de 20 periodos.\n",
    "\n",
    "**Banda Superior (Upper Band)**: Esta banda se encuentra por encima de la línea central y generalmente se calcula sumando dos desviaciones estándar al precio de la SMA.\n",
    "\n",
    "**Banda Inferior (Lower Band)**: Esta banda se encuentra por debajo de la línea central y se calcula restando dos desviaciones estándar al precio de la SMA.\n",
    "\n",
    "Interpretación de las Bandas de Bollinger:\n",
    "\n",
    "**Rangos de Precios Esperados**: Las bandas superiores e inferiores actúan como niveles de resistencia y soporte dinámicos. \n",
    "\n",
    "**Volatilidad**: Cuando las bandas están más separadas, indica mayor volatilidad en el mercado.\n",
    "\n",
    "**Cruces**: Los cruces de precios de un extremo a otro de las bandas pueden indicar posibles cambios de tendencia. Por ejemplo, si el precio cruza la banda superior, podría sugerir condiciones de sobrecompra, mientras que un cruce por debajo de la banda inferior podría indicar condiciones de sobreventa.\n",
    "\n",
    "**Divergencias**: Divergencias entre el precio y las Bandas de Bollinger pueden ser señales de posibles cambios en la dirección del precio."
   ]
  },
  {
   "cell_type": "code",
   "execution_count": 591,
   "metadata": {},
   "outputs": [],
   "source": [
    "# We need to normalize close data\n",
    "data['BB Low'] = data.groupby(level=\"Ticker\")['Close'].transform(lambda x: pandas_ta.bbands(close=np.log1p(x), length=25).iloc[:,0])\n",
    "                                                          \n",
    "data['BB Mid'] = data.groupby(level=\"Ticker\")['Close'].transform(lambda x: pandas_ta.bbands(close=np.log1p(x), length=25).iloc[:,0])\n",
    "                                                          \n",
    "data['BB High'] = data.groupby(level=\"Ticker\")['Close'].transform(lambda x: pandas_ta.bbands(close=np.log1p(x), length=25).iloc[:,0])"
   ]
  },
  {
   "cell_type": "markdown",
   "metadata": {},
   "source": [
    "### 5. ATR - Average True Range\n",
    "Medir la volatilidad de un activo financiero.\n",
    "\n",
    "Mayor ATR: Indica mayor volatilidad en el mercado, lo que puede ser útil para operadores que buscan aprovechar movimientos significativos de precios.\n",
    "\n",
    "Menor ATR: Indica menor volatilidad, lo que podría ser de interés para aquellos que prefieren mercados más estables y predecibles."
   ]
  },
  {
   "cell_type": "code",
   "execution_count": 592,
   "metadata": {},
   "outputs": [],
   "source": [
    "def compute_atr(stock_data):\n",
    "    atr = pandas_ta.atr(high=stock_data['High'],\n",
    "                        low=stock_data['Low'],\n",
    "                        close=stock_data['Close'],\n",
    "                        length=14)\n",
    "    \n",
    "    return  atr.sub(atr.mean()).div(atr.std())"
   ]
  },
  {
   "cell_type": "code",
   "execution_count": 593,
   "metadata": {},
   "outputs": [],
   "source": [
    "data['ATR'] = data.groupby(level=\"Ticker\", group_keys=False).apply(compute_atr)"
   ]
  },
  {
   "cell_type": "markdown",
   "metadata": {},
   "source": [
    "### 6. Dollar volumen - Average True Range\n",
    "Es una medida que combina el número de acciones o contratos negociados con el precio de esos activos en un periodo de tiempo específico."
   ]
  },
  {
   "cell_type": "code",
   "execution_count": 594,
   "metadata": {},
   "outputs": [],
   "source": [
    "data['Dollar Volume'] = (data['Close']*data['Volume'])/1e6"
   ]
  },
  {
   "cell_type": "markdown",
   "metadata": {},
   "source": [
    "Filter most liquid stocks by dollar volume."
   ]
  },
  {
   "cell_type": "code",
   "execution_count": 595,
   "metadata": {},
   "outputs": [],
   "source": [
    "# We will focus on a monthly level indicator\n",
    "\n",
    "# Compute the average of the dolar volumen over each month\n",
    "dolar_volume_monthly = data.unstack(\"Ticker\")[\"Dollar Volume\"].resample(\"M\").mean().stack(\"Ticker\").to_frame(\"Dollar Volume\")\n",
    "\n",
    "# Select just indicator columns\n",
    "indicators = list(set(data.columns) - set(original_colums) - set([\"Dollar Volume\"]))\n",
    "indicators.append(\"Close\")\n",
    "indicators_montly = data.unstack()[indicators].resample(\"M\").last().stack(\"Ticker\")\n",
    "\n",
    "new_data = pd.concat([dolar_volume_monthly, indicators_montly], axis=1).dropna()\n"
   ]
  },
  {
   "cell_type": "code",
   "execution_count": 596,
   "metadata": {},
   "outputs": [],
   "source": [
    "# Filter based on the year rolling avg of dolalr volume\n",
    "new_data[\"Dollar Volume\"] = new_data[\"Dollar Volume\"].unstack(\"Ticker\").rolling(12).mean().stack()\n",
    "new_data[\"Dollar Volumen Rank\"] = (new_data.groupby('Date')['Dollar Volume'].rank(ascending=False))"
   ]
  },
  {
   "cell_type": "code",
   "execution_count": 598,
   "metadata": {},
   "outputs": [],
   "source": [
    "# Get the best 50\n",
    "new_data = new_data[new_data[\"Dollar Volumen Rank\"]<50].drop(['Dollar Volume', 'Dollar Volumen Rank'], axis=1) "
   ]
  },
  {
   "cell_type": "code",
   "execution_count": 603,
   "metadata": {},
   "outputs": [
    {
     "data": {
      "text/plain": [
       "Date        Ticker\n",
       "2019-01-02  AAPL       39.480000\n",
       "2019-01-03  AAPL       35.547501\n",
       "2019-01-04  AAPL       37.064999\n",
       "2019-01-07  AAPL       36.982498\n",
       "2019-01-08  AAPL       37.687500\n",
       "                         ...    \n",
       "2023-12-22  AAPL      193.600006\n",
       "2023-12-26  AAPL      193.050003\n",
       "2023-12-27  AAPL      193.149994\n",
       "2023-12-28  AAPL      193.580002\n",
       "2023-12-29  AAPL      192.529999\n",
       "Name: Close, Length: 1258, dtype: float64"
      ]
     },
     "execution_count": 603,
     "metadata": {},
     "output_type": "execute_result"
    }
   ],
   "source": [
    "a = data.groupby(level=1, group_keys=False).get_group(\"AAPL\")\n",
    "a[\"Close\"]\n"
   ]
  },
  {
   "cell_type": "code",
   "execution_count": 606,
   "metadata": {},
   "outputs": [
    {
     "data": {
      "text/plain": [
       "Date        Ticker\n",
       "2019-01-02  AAPL           NaN\n",
       "2019-01-03  AAPL     -0.099607\n",
       "2019-01-04  AAPL      0.042689\n",
       "2019-01-07  AAPL     -0.002226\n",
       "2019-01-08  AAPL      0.019063\n",
       "                        ...   \n",
       "2023-12-22  AAPL     -0.005547\n",
       "2023-12-26  AAPL     -0.002841\n",
       "2023-12-27  AAPL      0.000518\n",
       "2023-12-28  AAPL      0.002226\n",
       "2023-12-29  AAPL     -0.005424\n",
       "Name: Close, Length: 1258, dtype: float64"
      ]
     },
     "execution_count": 606,
     "metadata": {},
     "output_type": "execute_result"
    }
   ],
   "source": [
    "a['Close'].pct_change(1)"
   ]
  },
  {
   "cell_type": "code",
   "execution_count": 605,
   "metadata": {},
   "outputs": [
    {
     "data": {
      "text/plain": [
       "Date        Ticker\n",
       "2019-01-02  AAPL           NaN\n",
       "2019-01-03  AAPL     -0.064841\n",
       "2019-01-04  AAPL      0.042689\n",
       "2019-01-07  AAPL     -0.002226\n",
       "2019-01-08  AAPL      0.019063\n",
       "                        ...   \n",
       "2023-12-22  AAPL     -0.005547\n",
       "2023-12-26  AAPL     -0.002841\n",
       "2023-12-27  AAPL      0.000518\n",
       "2023-12-28  AAPL      0.002226\n",
       "2023-12-29  AAPL     -0.005424\n",
       "Name: Close, Length: 1258, dtype: float64"
      ]
     },
     "execution_count": 605,
     "metadata": {},
     "output_type": "execute_result"
    }
   ],
   "source": [
    "a['Close'].pct_change(1).pipe(lambda x: x.clip(lower=x.quantile(0.005),upper=x.quantile(1-0.005)))"
   ]
  },
  {
   "cell_type": "code",
   "execution_count": null,
   "metadata": {},
   "outputs": [],
   "source": [
    "# Calculate retuns\n",
    "def calculate_returns(df):\n",
    "    \"\"\"Calculate returns over various time lags and handle outliers.\n",
    "\n",
    "    Args:\n",
    "        df (DataFrame): Input DataFrame containing financial data.\n",
    "\n",
    "    Returns:\n",
    "        DataFrame: Original DataFrame with additional columns for returns calculated over specified time lags.\n",
    "    \"\"\"\n",
    "    outlier_cutoff = 0.005\n",
    "\n",
    "    lags = [1, 2, 3, 6, 9, 12]\n",
    "\n",
    "    for lag in lags:\n",
    "\n",
    "        df[f'return_{lag}m'] = (df['adj close']\n",
    "                              .pct_change(lag)\n",
    "                              .pipe(lambda x: x.clip(lower=x.quantile(outlier_cutoff),\n",
    "                                                     upper=x.quantile(1-outlier_cutoff)))\n",
    "                              .add(1)\n",
    "                              .pow(1/lag)\n",
    "                              .sub(1))\n",
    "    return df\n",
    "    \n",
    "    \n",
    "data = data.groupby(level=1, group_keys=False).apply(calculate_returns).dropna()\n",
    "\n",
    "data\n"
   ]
  },
  {
   "cell_type": "code",
   "execution_count": null,
   "metadata": {},
   "outputs": [],
   "source": []
  }
 ],
 "metadata": {
  "kernelspec": {
   "display_name": "Python 3",
   "language": "python",
   "name": "python3"
  },
  "language_info": {
   "codemirror_mode": {
    "name": "ipython",
    "version": 3
   },
   "file_extension": ".py",
   "mimetype": "text/x-python",
   "name": "python",
   "nbconvert_exporter": "python",
   "pygments_lexer": "ipython3",
   "version": "3.10.11"
  }
 },
 "nbformat": 4,
 "nbformat_minor": 2
}
