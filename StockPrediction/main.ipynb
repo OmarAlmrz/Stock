{
 "cells": [
  {
   "cell_type": "code",
   "execution_count": 15,
   "metadata": {},
   "outputs": [],
   "source": [
    "import numpy as np\n",
    "import pandas as pd\n",
    "import yfinance as yf\n",
    "from sklearn.preprocessing import MinMaxScaler"
   ]
  },
  {
   "cell_type": "code",
   "execution_count": 30,
   "metadata": {},
   "outputs": [
    {
     "name": "stdout",
     "output_type": "stream",
     "text": [
      "[*********************100%%**********************]  1 of 1 completed\n"
     ]
    }
   ],
   "source": [
    "STOCK_TICKER = 'AMD'\n",
    "yf.pdr_override()\n",
    "# Retrieve stock information from yfinance API\n",
    "stock = yf.Ticker(STOCK_TICKER)\n",
    "# Retrieve stock data frame (df) from yfinance API at an interval of 1m \n",
    "df = yf.download(tickers=STOCK_TICKER,start=\"2018-01-01\", end=\"2023-01-01\",interval='1d')\n"
   ]
  },
  {
   "cell_type": "code",
   "execution_count": 31,
   "metadata": {},
   "outputs": [
    {
     "name": "stdout",
     "output_type": "stream",
     "text": [
      "<class 'pandas.core.frame.DataFrame'>\n",
      "DatetimeIndex: 1259 entries, 2018-01-02 to 2022-12-30\n",
      "Data columns (total 6 columns):\n",
      " #   Column     Non-Null Count  Dtype  \n",
      "---  ------     --------------  -----  \n",
      " 0   Open       1259 non-null   float64\n",
      " 1   High       1259 non-null   float64\n",
      " 2   Low        1259 non-null   float64\n",
      " 3   Close      1259 non-null   float64\n",
      " 4   Adj Close  1259 non-null   float64\n",
      " 5   Volume     1259 non-null   int64  \n",
      "dtypes: float64(5), int64(1)\n",
      "memory usage: 68.9 KB\n"
     ]
    }
   ],
   "source": [
    "#Check for None values \n",
    "df.info()"
   ]
  },
  {
   "cell_type": "code",
   "execution_count": 32,
   "metadata": {},
   "outputs": [],
   "source": [
    "# Datetime to colum \n",
    "df.reset_index(inplace=True)\n",
    "df = df.rename(columns={\"Datetime\":\"Date\"})"
   ]
  },
  {
   "cell_type": "code",
   "execution_count": 33,
   "metadata": {},
   "outputs": [],
   "source": [
    "# Convert colum into a Datetime object\n",
    "df[\"Date\"] = pd.to_datetime(df[\"Date\"])"
   ]
  },
  {
   "cell_type": "code",
   "execution_count": 34,
   "metadata": {},
   "outputs": [],
   "source": [
    "# Get our training set\n",
    "train_set = df[\"Open\"].values[:, None]"
   ]
  },
  {
   "cell_type": "code",
   "execution_count": 35,
   "metadata": {},
   "outputs": [],
   "source": [
    "# Normalize our dataset. aa\n",
    "# Use MinMaxScales beacuse our data does not follow a distribution. Values between 0 and 1 \n",
    "scaler = MinMaxScaler(feature_range=(0,1))\n",
    "scaled_train_set = scaler.fit_transform(train_set)"
   ]
  },
  {
   "cell_type": "code",
   "execution_count": 38,
   "metadata": {},
   "outputs": [
    {
     "data": {
      "text/plain": [
       "((1200, 59), (1200,))"
      ]
     },
     "execution_count": 38,
     "metadata": {},
     "output_type": "execute_result"
    }
   ],
   "source": [
    "# Creating x_train and y_train \n",
    "x_train = [] # Each input feature is a sequence of historical stock prices.\n",
    "y_train = [] # The target value for each input sequence is the stock price at the next time step after the input sequence.\n",
    "\n",
    "# Define hyperparameters\n",
    "sequence_length = len(scaled_train_set) - 1200  # Number of days in each input sequence\n",
    "\n",
    "# Create input features (x) and target values (y)\n",
    "x = []\n",
    "y = []\n",
    "\n",
    "for i in range(len(scaled_train_set) - sequence_length):\n",
    "    x.append(scaled_train_set[i:i+sequence_length, 0]) # Save temporal values of stock \n",
    "    y.append(scaled_train_set[i+sequence_length, 0]) # Save last value of temporal interval \n",
    "\n",
    "# Convert to NumPy arrays\n",
    "x = np.array(x)\n",
    "y = np.array(y)\n",
    "x.shape, y.shape"
   ]
  },
  {
   "cell_type": "code",
   "execution_count": null,
   "metadata": {},
   "outputs": [],
   "source": []
  }
 ],
 "metadata": {
  "kernelspec": {
   "display_name": "Python 3",
   "language": "python",
   "name": "python3"
  },
  "language_info": {
   "codemirror_mode": {
    "name": "ipython",
    "version": 3
   },
   "file_extension": ".py",
   "mimetype": "text/x-python",
   "name": "python",
   "nbconvert_exporter": "python",
   "pygments_lexer": "ipython3",
   "version": "3.10.11"
  }
 },
 "nbformat": 4,
 "nbformat_minor": 2
}
